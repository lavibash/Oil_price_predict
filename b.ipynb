{
 "cells": [
  {
   "cell_type": "code",
   "execution_count": 85,
   "metadata": {},
   "outputs": [],
   "source": [
    "# import sys\n",
    "# import tensorflow.keras\n",
    "# import tensorflow as tf\n",
    "# import numpy as np\n",
    "# print(f\"Tensor Flow Version: {tf.__version__}\")\n",
    "# print(f\"Keras Version: {tensorflow.keras.__version__}\")\n",
    "# print()\n",
    "# print(f\"Python {sys.version}\")\n",
    "# gpu = len(tf.config.list_physical_devices('GPU'))>0\n",
    "# print(\"GPU is\", \"available\" if gpu else \"NOT AVAILABLE\")\n",
    "#I used this to run it on my GPU, multiple things are needed for this.\n",
    "\n",
    "from sklearn.linear_model import LinearRegression\n",
    "from sklearn.metrics import mean_absolute_error\n",
    "import pandas as pd\n",
    "from sklearn.model_selection import train_test_split\n",
    "import cv2 as csv\n",
    "import numpy as np "
   ]
  },
  {
   "cell_type": "code",
   "execution_count": 86,
   "metadata": {},
   "outputs": [
    {
     "data": {
      "text/html": [
       "<div>\n",
       "<style scoped>\n",
       "    .dataframe tbody tr th:only-of-type {\n",
       "        vertical-align: middle;\n",
       "    }\n",
       "\n",
       "    .dataframe tbody tr th {\n",
       "        vertical-align: top;\n",
       "    }\n",
       "\n",
       "    .dataframe thead th {\n",
       "        text-align: right;\n",
       "    }\n",
       "</style>\n",
       "<table border=\"1\" class=\"dataframe\">\n",
       "  <thead>\n",
       "    <tr style=\"text-align: right;\">\n",
       "      <th></th>\n",
       "      <th>Date</th>\n",
       "      <th>Symbol</th>\n",
       "      <th>Open</th>\n",
       "      <th>High</th>\n",
       "      <th>Low</th>\n",
       "      <th>Close</th>\n",
       "      <th>Volume</th>\n",
       "      <th>Currency</th>\n",
       "    </tr>\n",
       "  </thead>\n",
       "  <tbody>\n",
       "    <tr>\n",
       "      <th>0</th>\n",
       "      <td>2000-01-03</td>\n",
       "      <td>XOM</td>\n",
       "      <td>39.75</td>\n",
       "      <td>40.38</td>\n",
       "      <td>38.94</td>\n",
       "      <td>39.16</td>\n",
       "      <td>13458200</td>\n",
       "      <td>USD</td>\n",
       "    </tr>\n",
       "    <tr>\n",
       "      <th>1</th>\n",
       "      <td>2000-01-04</td>\n",
       "      <td>XOM</td>\n",
       "      <td>38.69</td>\n",
       "      <td>39.09</td>\n",
       "      <td>38.25</td>\n",
       "      <td>38.41</td>\n",
       "      <td>14510800</td>\n",
       "      <td>USD</td>\n",
       "    </tr>\n",
       "    <tr>\n",
       "      <th>2</th>\n",
       "      <td>2000-01-05</td>\n",
       "      <td>XOM</td>\n",
       "      <td>39.00</td>\n",
       "      <td>40.88</td>\n",
       "      <td>38.91</td>\n",
       "      <td>40.50</td>\n",
       "      <td>17485000</td>\n",
       "      <td>USD</td>\n",
       "    </tr>\n",
       "    <tr>\n",
       "      <th>3</th>\n",
       "      <td>2000-01-06</td>\n",
       "      <td>XOM</td>\n",
       "      <td>40.31</td>\n",
       "      <td>42.91</td>\n",
       "      <td>40.09</td>\n",
       "      <td>42.59</td>\n",
       "      <td>19462000</td>\n",
       "      <td>USD</td>\n",
       "    </tr>\n",
       "    <tr>\n",
       "      <th>4</th>\n",
       "      <td>2000-01-07</td>\n",
       "      <td>XOM</td>\n",
       "      <td>42.97</td>\n",
       "      <td>43.12</td>\n",
       "      <td>42.00</td>\n",
       "      <td>42.47</td>\n",
       "      <td>16603800</td>\n",
       "      <td>USD</td>\n",
       "    </tr>\n",
       "  </tbody>\n",
       "</table>\n",
       "</div>"
      ],
      "text/plain": [
       "         Date Symbol   Open   High    Low  Close    Volume Currency\n",
       "0  2000-01-03    XOM  39.75  40.38  38.94  39.16  13458200      USD\n",
       "1  2000-01-04    XOM  38.69  39.09  38.25  38.41  14510800      USD\n",
       "2  2000-01-05    XOM  39.00  40.88  38.91  40.50  17485000      USD\n",
       "3  2000-01-06    XOM  40.31  42.91  40.09  42.59  19462000      USD\n",
       "4  2000-01-07    XOM  42.97  43.12  42.00  42.47  16603800      USD"
      ]
     },
     "execution_count": 86,
     "metadata": {},
     "output_type": "execute_result"
    }
   ],
   "source": [
    "oil_price = pd.read_csv(\"C:/Users/lavia/Desktop/machine_learning/data/oil.csv\")\n",
    "oil_price.head()"
   ]
  },
  {
   "cell_type": "code",
   "execution_count": 87,
   "metadata": {},
   "outputs": [],
   "source": [
    "features = ['Open', 'High', 'Low']\n",
    "y = oil_price.Close\n",
    "x = oil_price[features]"
   ]
  },
  {
   "cell_type": "code",
   "execution_count": 88,
   "metadata": {},
   "outputs": [],
   "source": [
    "#train_x, train_y, test_x, test_y = train_test_split(x, y,random_state=1)\n",
    "#because of non-equal sample size. "
   ]
  },
  {
   "cell_type": "code",
   "execution_count": 89,
   "metadata": {},
   "outputs": [],
   "source": [
    "from sklearn import linear_model\n",
    "linear_model = linear_model.Ridge(alpha=0.3)"
   ]
  },
  {
   "cell_type": "code",
   "execution_count": 90,
   "metadata": {},
   "outputs": [
    {
     "data": {
      "text/plain": [
       "(39201, 3)"
      ]
     },
     "execution_count": 90,
     "metadata": {},
     "output_type": "execute_result"
    }
   ],
   "source": [
    "x.shape"
   ]
  },
  {
   "cell_type": "code",
   "execution_count": 91,
   "metadata": {},
   "outputs": [
    {
     "data": {
      "text/plain": [
       "(39201,)"
      ]
     },
     "execution_count": 91,
     "metadata": {},
     "output_type": "execute_result"
    }
   ],
   "source": [
    "y.shape"
   ]
  },
  {
   "cell_type": "code",
   "execution_count": 92,
   "metadata": {},
   "outputs": [
    {
     "data": {
      "text/plain": [
       "array([ 51.63963706,  62.74135118, 100.52370702, ...,  40.87412306,\n",
       "        20.67971614,   3.58983857])"
      ]
     },
     "execution_count": 92,
     "metadata": {},
     "output_type": "execute_result"
    }
   ],
   "source": [
    "linear_model.fit(x, y)\n",
    "linear_model.predict(train_x)"
   ]
  },
  {
   "cell_type": "code",
   "execution_count": 93,
   "metadata": {},
   "outputs": [],
   "source": [
    "score = linear_model.score(x, y)"
   ]
  },
  {
   "cell_type": "code",
   "execution_count": 94,
   "metadata": {},
   "outputs": [
    {
     "name": "stdout",
     "output_type": "stream",
     "text": [
      "Coefficients: array([-0.57218801,  0.80077155,  0.7713781 ])\n",
      "\n",
      "Intercept: -0.0012103980594773134\n",
      "\n",
      "Alpha choice: 0.3\n",
      "\n",
      "score: 0.9997922895612429\n",
      "\n"
     ]
    }
   ],
   "source": [
    "print('Coefficients: {}\\n'.format(repr(linear_model.coef_)))\n",
    "print('Intercept: {}\\n'.format(linear_model.intercept_))\n",
    "print('Alpha choice: {}\\n'.format(linear_model.alpha))\n",
    "print('score: {}\\n'.format(score))"
   ]
  }
 ],
 "metadata": {
  "kernelspec": {
   "display_name": "Python 3.10.4 (conda)",
   "language": "python",
   "name": "python3"
  },
  "language_info": {
   "codemirror_mode": {
    "name": "ipython",
    "version": 3
   },
   "file_extension": ".py",
   "mimetype": "text/x-python",
   "name": "python",
   "nbconvert_exporter": "python",
   "pygments_lexer": "ipython3",
   "version": "3.10.4"
  },
  "orig_nbformat": 4,
  "vscode": {
   "interpreter": {
    "hash": "c15c1315a848a74149310b22b85f9dd321aa8e4d63db65f191b478823ff04676"
   }
  }
 },
 "nbformat": 4,
 "nbformat_minor": 2
}
